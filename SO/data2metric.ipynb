{
 "cells": [
  {
   "cell_type": "markdown",
   "metadata": {
    "collapsed": true,
    "pycharm": {
     "name": "#%% md\n"
    }
   },
   "source": [
    "### extract metrics from raw data"
   ]
  },
  {
   "cell_type": "code",
   "execution_count": null,
   "outputs": [],
   "source": [
    "import pandas as pd\n",
    "from datetime import datetime,timezone"
   ],
   "metadata": {
    "collapsed": false,
    "pycharm": {
     "name": "#%%\n"
    }
   }
  },
  {
   "cell_type": "code",
   "execution_count": 32,
   "outputs": [
    {
     "data": {
      "text/plain": "True"
     },
     "execution_count": 32,
     "metadata": {},
     "output_type": "execute_result"
    }
   ],
   "source": [
    "df = pd.read_csv('data/drupal_raw.csv',index_col='qid')\n",
    "df.index.is_unique"
   ],
   "metadata": {
    "collapsed": false,
    "pycharm": {
     "name": "#%%\n"
    }
   }
  },
  {
   "cell_type": "code",
   "execution_count": 33,
   "outputs": [],
   "source": [
    "df.qviews = df.qviews.apply(lambda x: x.replace('k','000') if 'k' in x else x)\n",
    "df.qviews = df.qviews.astype('int64')"
   ],
   "metadata": {
    "collapsed": false,
    "pycharm": {
     "name": "#%%\n"
    }
   }
  },
  {
   "cell_type": "code",
   "execution_count": 34,
   "outputs": [
    {
     "data": {
      "text/plain": "avotesum                      int64\nqactivetime     datetime64[ns, UTC]\nqanswers                      int64\nqasktime        datetime64[ns, UTC]\nqviews                        int64\nqvotes                        int64\nresponsetime    datetime64[ns, UTC]\ndtype: object"
     },
     "execution_count": 34,
     "metadata": {},
     "output_type": "execute_result"
    }
   ],
   "source": [
    "df.qasktime = pd.to_datetime(df.qasktime)\n",
    "df.qactivetime = pd.to_datetime(df.qactivetime)\n",
    "df.responsetime = pd.to_datetime(df.responsetime)\n",
    "df.dtypes"
   ],
   "metadata": {
    "collapsed": false,
    "pycharm": {
     "name": "#%%\n"
    }
   }
  },
  {
   "cell_type": "code",
   "execution_count": 35,
   "outputs": [],
   "source": [
    "start_time = datetime(2020,1,1,tzinfo=timezone.utc)\n",
    "end_time = datetime(2020,6,30,tzinfo=timezone.utc)\n",
    "df = df[(df.qasktime>start_time)&(df.qasktime<end_time)]"
   ],
   "metadata": {
    "collapsed": false,
    "pycharm": {
     "name": "#%%\n"
    }
   }
  },
  {
   "cell_type": "code",
   "execution_count": 36,
   "outputs": [],
   "source": [
    "df['activity'] = df['qvotes'].apply(lambda x:abs(x))+df['qanswers']+df['avotesum']\n",
    "df['exposure'] = df['qviews']"
   ],
   "metadata": {
    "collapsed": false,
    "pycharm": {
     "name": "#%%\n"
    }
   }
  },
  {
   "cell_type": "code",
   "execution_count": 37,
   "outputs": [],
   "source": [
    "df['dayofweek'] = df['qasktime'].dt.dayofweek"
   ],
   "metadata": {
    "collapsed": false,
    "pycharm": {
     "name": "#%%\n"
    }
   }
  },
  {
   "cell_type": "code",
   "execution_count": 38,
   "outputs": [],
   "source": [
    "df['endurance'] = df.qactivetime-df.qasktime\n",
    "df['endurance'] = df['endurance'].dt.total_seconds()\n",
    "df = df[~(df['endurance']<0)]"
   ],
   "metadata": {
    "collapsed": false,
    "pycharm": {
     "name": "#%%\n"
    }
   }
  },
  {
   "cell_type": "code",
   "execution_count": 39,
   "outputs": [],
   "source": [
    "df['response'] = df.responsetime-df.qasktime\n",
    "df['response'] = df['response'].dt.total_seconds()\n",
    "df = df[~(df['response']<0)]"
   ],
   "metadata": {
    "collapsed": false,
    "pycharm": {
     "name": "#%%\n"
    }
   }
  },
  {
   "cell_type": "code",
   "execution_count": 40,
   "outputs": [
    {
     "data": {
      "text/plain": "         avotesum    qanswers       qviews      qvotes   activity  \\\ncount  228.000000  228.000000   228.000000  228.000000  228.00000   \nmean     0.434211    0.912281   256.127193    0.333333    1.75000   \nstd      0.890511    0.715608   343.711738    0.781579    1.66163   \nmin      0.000000    0.000000    13.000000   -4.000000    0.00000   \n25%      0.000000    0.000000    53.000000    0.000000    1.00000   \n50%      0.000000    1.000000   110.000000    0.000000    1.00000   \n75%      1.000000    1.000000   347.500000    1.000000    2.00000   \nmax      7.000000    4.000000  2000.000000    4.000000   12.00000   \n\n          exposure   dayofweek     endurance      response  \ncount   228.000000  228.000000  2.280000e+02  1.660000e+02  \nmean    256.127193    2.521930  2.891385e+06  1.449881e+06  \nstd     343.711738    1.913194  8.541088e+06  5.783982e+06  \nmin      13.000000    0.000000  0.000000e+00  1.920000e+02  \n25%      53.000000    1.000000  4.249500e+03  6.120750e+03  \n50%     110.000000    2.500000  7.331950e+04  7.421300e+04  \n75%     347.500000    4.000000  5.142810e+05  4.082222e+05  \nmax    2000.000000    6.000000  5.485926e+07  5.277282e+07  ",
      "text/html": "<div>\n<style scoped>\n    .dataframe tbody tr th:only-of-type {\n        vertical-align: middle;\n    }\n\n    .dataframe tbody tr th {\n        vertical-align: top;\n    }\n\n    .dataframe thead th {\n        text-align: right;\n    }\n</style>\n<table border=\"1\" class=\"dataframe\">\n  <thead>\n    <tr style=\"text-align: right;\">\n      <th></th>\n      <th>avotesum</th>\n      <th>qanswers</th>\n      <th>qviews</th>\n      <th>qvotes</th>\n      <th>activity</th>\n      <th>exposure</th>\n      <th>dayofweek</th>\n      <th>endurance</th>\n      <th>response</th>\n    </tr>\n  </thead>\n  <tbody>\n    <tr>\n      <th>count</th>\n      <td>228.000000</td>\n      <td>228.000000</td>\n      <td>228.000000</td>\n      <td>228.000000</td>\n      <td>228.00000</td>\n      <td>228.000000</td>\n      <td>228.000000</td>\n      <td>2.280000e+02</td>\n      <td>1.660000e+02</td>\n    </tr>\n    <tr>\n      <th>mean</th>\n      <td>0.434211</td>\n      <td>0.912281</td>\n      <td>256.127193</td>\n      <td>0.333333</td>\n      <td>1.75000</td>\n      <td>256.127193</td>\n      <td>2.521930</td>\n      <td>2.891385e+06</td>\n      <td>1.449881e+06</td>\n    </tr>\n    <tr>\n      <th>std</th>\n      <td>0.890511</td>\n      <td>0.715608</td>\n      <td>343.711738</td>\n      <td>0.781579</td>\n      <td>1.66163</td>\n      <td>343.711738</td>\n      <td>1.913194</td>\n      <td>8.541088e+06</td>\n      <td>5.783982e+06</td>\n    </tr>\n    <tr>\n      <th>min</th>\n      <td>0.000000</td>\n      <td>0.000000</td>\n      <td>13.000000</td>\n      <td>-4.000000</td>\n      <td>0.00000</td>\n      <td>13.000000</td>\n      <td>0.000000</td>\n      <td>0.000000e+00</td>\n      <td>1.920000e+02</td>\n    </tr>\n    <tr>\n      <th>25%</th>\n      <td>0.000000</td>\n      <td>0.000000</td>\n      <td>53.000000</td>\n      <td>0.000000</td>\n      <td>1.00000</td>\n      <td>53.000000</td>\n      <td>1.000000</td>\n      <td>4.249500e+03</td>\n      <td>6.120750e+03</td>\n    </tr>\n    <tr>\n      <th>50%</th>\n      <td>0.000000</td>\n      <td>1.000000</td>\n      <td>110.000000</td>\n      <td>0.000000</td>\n      <td>1.00000</td>\n      <td>110.000000</td>\n      <td>2.500000</td>\n      <td>7.331950e+04</td>\n      <td>7.421300e+04</td>\n    </tr>\n    <tr>\n      <th>75%</th>\n      <td>1.000000</td>\n      <td>1.000000</td>\n      <td>347.500000</td>\n      <td>1.000000</td>\n      <td>2.00000</td>\n      <td>347.500000</td>\n      <td>4.000000</td>\n      <td>5.142810e+05</td>\n      <td>4.082222e+05</td>\n    </tr>\n    <tr>\n      <th>max</th>\n      <td>7.000000</td>\n      <td>4.000000</td>\n      <td>2000.000000</td>\n      <td>4.000000</td>\n      <td>12.00000</td>\n      <td>2000.000000</td>\n      <td>6.000000</td>\n      <td>5.485926e+07</td>\n      <td>5.277282e+07</td>\n    </tr>\n  </tbody>\n</table>\n</div>"
     },
     "execution_count": 40,
     "metadata": {},
     "output_type": "execute_result"
    }
   ],
   "source": [
    "df.to_csv('./data/drupal.csv',columns=['activity','exposure','dayofweek','response','endurance'])\n",
    "df.describe()"
   ],
   "metadata": {
    "collapsed": false,
    "pycharm": {
     "name": "#%%\n"
    }
   }
  }
 ],
 "metadata": {
  "kernelspec": {
   "display_name": "Python 3",
   "language": "python",
   "name": "python3"
  },
  "language_info": {
   "codemirror_mode": {
    "name": "ipython",
    "version": 2
   },
   "file_extension": ".py",
   "mimetype": "text/x-python",
   "name": "python",
   "nbconvert_exporter": "python",
   "pygments_lexer": "ipython2",
   "version": "2.7.6"
  }
 },
 "nbformat": 4,
 "nbformat_minor": 0
}